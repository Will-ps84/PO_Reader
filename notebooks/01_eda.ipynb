{
 "cells": [
  {
   "cell_type": "code",
   "execution_count": null,
   "id": "0e0304d5",
   "metadata": {},
   "outputs": [],
   "source": [
    "import pandas as pd, glob, pathlib as Path\n",
    "txts = glob.glob(\"../data/interim/*.txt\")\n",
    "df = pd.DataFrame({\"file\": txts, \"text\": [open(f, encoding=\"utf8\").read() for f in txts]})\n",
    "df[\"len\"] = df.text.str.len()\n",
    "df.describe()"
   ]
  }
 ],
 "metadata": {
  "language_info": {
   "name": "python"
  }
 },
 "nbformat": 4,
 "nbformat_minor": 5
}
